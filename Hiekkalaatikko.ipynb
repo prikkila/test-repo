{
 "cells": [
  {
   "cell_type": "markdown",
   "metadata": {},
   "source": [
    "## Invariantti massa datatiedostossa"
   ]
  },
  {
   "cell_type": "markdown",
   "metadata": {},
   "source": [
    "Invariantti massa on matemaattinen käsite, joka määritellään lausekkeella\n",
    "\n",
    "$$ M = \\sqrt{(E_1 + E_2)^2-(\\vec{p_1} + \\vec{p_2})^2}. $$\n",
    "\n",
    "Käyttämämme datatiedosto sisältää jo valmiiksi lasketut invariantin massan arvot törmäyksissä, joissa Z-bosoni on hajonnut kahdeksi myoniksi (myoni ja antimyoni).\n",
    "\n",
    "<img src='Z_hajoaminen.svg' width=250>\n",
    "\n",
    "Haetaan seuraavaksi tämä data käyttöömme, ja plotataan siitä histogrammi tulosten tarkastelua varten."
   ]
  },
  {
   "cell_type": "code",
   "execution_count": 4,
   "metadata": {
    "collapsed": false
   },
   "outputs": [
    {
     "data": {
      "text/plain": [
       "<Container object of 120 artists>"
      ]
     },
     "execution_count": 4,
     "metadata": {},
     "output_type": "execute_result"
    },
    {
     "data": {
      "image/png": "[encoded data removed]",
      "text/plain": [
       "<matplotlib.figure.Figure at 0x7efc07759450>"
      ]
     },
     "metadata": {},
     "output_type": "display_data"
    }
   ],
   "source": [
    "# Haetaan tarvittavat moduulit\n",
    "import pandas as pd\n",
    "import numpy as np\n",
    "import matplotlib.pyplot as plt\n",
    "\n",
    "# Tallennetaan CMS:n datatiedosto muuttujaan 'datasetti' ja haetaan\n",
    "# datasta invariantin massan arvot muuttujaan 'inv_massa'.\n",
    "datasetti = pd.read_csv('Zmumu_Run2011A.csv')\n",
    "inv_massa = datasetti['M']\n",
    "\n",
    "# Luodaan numpy-moduulin avulla histogrammi datasta.\n",
    "histogrammi = np.histogram(inv_massa, bins=120, range=(60,120))\n",
    "\n",
    "# Määritellään dimensioita histogrammin piirtoa varten.\n",
    "%matplotlib inline\n",
    "hist, bins = histogrammi\n",
    "width = 1.0*(bins[1] - bins[0])\n",
    "center = (bins[:-1] + bins[1:])/2\n",
    "\n",
    "# Plotataan histogrammi pyplot-moduulin avulla.\n",
    "plt.bar(center, hist, align='center', width=width)"
   ]
  }
 ],
 "metadata": {
  "kernelspec": {
   "display_name": "Python 2",
   "language": "python",
   "name": "python2"
  },
  "language_info": {
   "codemirror_mode": {
    "name": "ipython",
    "version": 2
   },
   "file_extension": ".py",
   "mimetype": "text/x-python",
   "name": "python",
   "nbconvert_exporter": "python",
   "pygments_lexer": "ipython2",
   "version": "2.7.10"
  }
 },
 "nbformat": 4,
 "nbformat_minor": 0
}
